{
 "cells": [
  {
   "cell_type": "code",
   "execution_count": 1,
   "id": "8b1be0b0-5ee7-4fd6-860b-308401878315",
   "metadata": {
    "tags": []
   },
   "outputs": [],
   "source": [
    "import numpy as np\n",
    "import scipy\n",
    "import pandas as pd\n",
    "import matplotlib.pyplot as plt"
   ]
  },
  {
   "cell_type": "code",
   "execution_count": 2,
   "id": "52d6e97e-1453-4d06-98a8-8a49012f8fd1",
   "metadata": {
    "tags": []
   },
   "outputs": [],
   "source": [
    "names =  [f'./clin_400k/clin1.5_0.8_{i}.npz' for i in range(40)]"
   ]
  },
  {
   "cell_type": "code",
   "execution_count": 3,
   "id": "d25d74cf-8cbe-49bf-8315-f26a79120e8e",
   "metadata": {
    "tags": []
   },
   "outputs": [],
   "source": [
    "data = np.load(names[0], allow_pickle = True)['db']"
   ]
  },
  {
   "cell_type": "code",
   "execution_count": 4,
   "id": "1b3173e2-9e67-4c5a-b96e-598932581ccb",
   "metadata": {
    "tags": []
   },
   "outputs": [
    {
     "name": "stdout",
     "output_type": "stream",
     "text": [
      "['structure_params', 'ind_low', 'I_high', 'ind_high']\n"
     ]
    }
   ],
   "source": [
    "print(list(data[0].keys()))"
   ]
  },
  {
   "cell_type": "code",
   "execution_count": 9,
   "id": "5c00ec70-67e9-4506-90ec-c80f59a4e1ef",
   "metadata": {
    "tags": []
   },
   "outputs": [
    {
     "data": {
      "text/plain": [
       "(2571,)"
      ]
     },
     "execution_count": 9,
     "metadata": {},
     "output_type": "execute_result"
    }
   ],
   "source": [
    "data[0]['I_high'].shape"
   ]
  },
  {
   "cell_type": "code",
   "execution_count": 7,
   "id": "43d85552-8a57-4386-805c-d5492792fee1",
   "metadata": {
    "tags": []
   },
   "outputs": [
    {
     "data": {
      "text/plain": [
       "{'cell_a': 5.6129374165912775,\n",
       " 'cell_b': 7.296818641568661,\n",
       " 'cell_c': 9.541993608205171,\n",
       " 'cell_alpha': 90.0,\n",
       " 'cell_beta': 109.0,\n",
       " 'cell_gamma': 90.0,\n",
       " 'cell_volume': 369.51573693596646,\n",
       " 'group': 'P 1 21 1 (No. 4)',\n",
       " 'structure_n_atoms': 11}"
      ]
     },
     "execution_count": 7,
     "metadata": {},
     "output_type": "execute_result"
    }
   ],
   "source": [
    "data[3]['structure_params']"
   ]
  },
  {
   "cell_type": "code",
   "execution_count": 8,
   "id": "e13eaa81-4d1b-4f1e-b157-4d8ac86a83fe",
   "metadata": {
    "tags": []
   },
   "outputs": [],
   "source": [
    "#first lets make merged dataset\n",
    "ind_lows, I_lows = [], []\n",
    "ind_highs, I_highs = [], []\n",
    "groups = []\n",
    "for name in names:\n",
    "    data = np.load(name, allow_pickle = True)['db']\n",
    "    for i in range(len(data)):\n",
    "        ind_lows.append(data[i]['ind_low'])\n",
    "        #I_lows.append(data[i]['I_low'])\n",
    "        ind_highs.append(data[i]['ind_high'])\n",
    "        I_highs.append(data[i]['I_high'])\n",
    "        groups.append(data[i]['structure_params']['group'])"
   ]
  },
  {
   "cell_type": "code",
   "execution_count": 11,
   "id": "1f342d7e-027a-425c-9175-cbb6e009146c",
   "metadata": {
    "tags": []
   },
   "outputs": [
    {
     "data": {
      "text/plain": [
       "1970"
      ]
     },
     "execution_count": 11,
     "metadata": {},
     "output_type": "execute_result"
    }
   ],
   "source": [
    "len(ind_highs[1])"
   ]
  },
  {
   "cell_type": "code",
   "execution_count": 14,
   "id": "ade18764-772f-417a-add7-54e96478daaf",
   "metadata": {},
   "outputs": [
    {
     "data": {
      "text/plain": [
       "400000"
      ]
     },
     "execution_count": 14,
     "metadata": {},
     "output_type": "execute_result"
    }
   ],
   "source": [
    "len(ind_lows)"
   ]
  },
  {
   "cell_type": "code",
   "execution_count": 12,
   "id": "76f2b694-c5a0-4471-81a5-e10ef22950b7",
   "metadata": {
    "tags": []
   },
   "outputs": [],
   "source": [
    "df = pd.DataFrame()"
   ]
  },
  {
   "cell_type": "code",
   "execution_count": 13,
   "id": "bb29b57a-dbfe-45be-86c9-3d9d19ef6816",
   "metadata": {},
   "outputs": [],
   "source": [
    "!mkdir clin_1.5_0.8_400k"
   ]
  },
  {
   "cell_type": "code",
   "execution_count": 16,
   "id": "6ddaba88-a290-4099-8c00-119579ff3336",
   "metadata": {},
   "outputs": [],
   "source": [
    "!mkdir clin_1.5_0.8_400k/data"
   ]
  },
  {
   "cell_type": "code",
   "execution_count": 17,
   "id": "0fcb368e-ccbd-406a-b3b0-8a6608766dc9",
   "metadata": {},
   "outputs": [],
   "source": [
    "for i in range(len(ind_lows)):\n",
    "    np.savez_compressed(f'clin_1.5_0.8_400k/data/{i}', Intensity = I_highs[i], Ind_high = ind_highs[i],\n",
    "                        Ind_low = ind_lows[i])"
   ]
  },
  {
   "cell_type": "code",
   "execution_count": 23,
   "id": "99c8a403-2520-4051-9a5d-ba3a619e0491",
   "metadata": {},
   "outputs": [
    {
     "data": {
      "text/plain": [
       "320000"
      ]
     },
     "execution_count": 23,
     "metadata": {},
     "output_type": "execute_result"
    }
   ],
   "source": [
    "train_range = len(ind_lows)//5*4\n",
    "train_range"
   ]
  },
  {
   "cell_type": "code",
   "execution_count": 24,
   "id": "610e3676-b6f8-42a6-a8c7-9ce45fdef2c6",
   "metadata": {
    "tags": []
   },
   "outputs": [],
   "source": [
    "filenames = [f'{i}.npz' for i in range(train_range)]"
   ]
  },
  {
   "cell_type": "code",
   "execution_count": 25,
   "id": "4208bbcc-fb6e-47ef-81f3-267e83c1a3b4",
   "metadata": {
    "tags": []
   },
   "outputs": [],
   "source": [
    "df['filename'] = filenames"
   ]
  },
  {
   "cell_type": "code",
   "execution_count": 26,
   "id": "f62e1dbe-7dc5-4efc-a06e-69c486944193",
   "metadata": {
    "tags": []
   },
   "outputs": [],
   "source": [
    "df['group'] = groups[:train_range]"
   ]
  },
  {
   "cell_type": "code",
   "execution_count": 27,
   "id": "566c213f-6234-4de3-9ada-17d3c9c9d8de",
   "metadata": {
    "tags": []
   },
   "outputs": [
    {
     "data": {
      "text/html": [
       "<div>\n",
       "<style scoped>\n",
       "    .dataframe tbody tr th:only-of-type {\n",
       "        vertical-align: middle;\n",
       "    }\n",
       "\n",
       "    .dataframe tbody tr th {\n",
       "        vertical-align: top;\n",
       "    }\n",
       "\n",
       "    .dataframe thead th {\n",
       "        text-align: right;\n",
       "    }\n",
       "</style>\n",
       "<table border=\"1\" class=\"dataframe\">\n",
       "  <thead>\n",
       "    <tr style=\"text-align: right;\">\n",
       "      <th></th>\n",
       "      <th>filename</th>\n",
       "      <th>group</th>\n",
       "    </tr>\n",
       "  </thead>\n",
       "  <tbody>\n",
       "    <tr>\n",
       "      <th>0</th>\n",
       "      <td>0.npz</td>\n",
       "      <td>P 1 21 1 (No. 4)</td>\n",
       "    </tr>\n",
       "    <tr>\n",
       "      <th>1</th>\n",
       "      <td>1.npz</td>\n",
       "      <td>P 1 21 1 (No. 4)</td>\n",
       "    </tr>\n",
       "    <tr>\n",
       "      <th>2</th>\n",
       "      <td>2.npz</td>\n",
       "      <td>P 1 21 1 (No. 4)</td>\n",
       "    </tr>\n",
       "    <tr>\n",
       "      <th>3</th>\n",
       "      <td>3.npz</td>\n",
       "      <td>P 1 21 1 (No. 4)</td>\n",
       "    </tr>\n",
       "    <tr>\n",
       "      <th>4</th>\n",
       "      <td>4.npz</td>\n",
       "      <td>C 1 2 1 (No. 5)</td>\n",
       "    </tr>\n",
       "    <tr>\n",
       "      <th>...</th>\n",
       "      <td>...</td>\n",
       "      <td>...</td>\n",
       "    </tr>\n",
       "    <tr>\n",
       "      <th>319995</th>\n",
       "      <td>319995.npz</td>\n",
       "      <td>C 1 2 1 (No. 5)</td>\n",
       "    </tr>\n",
       "    <tr>\n",
       "      <th>319996</th>\n",
       "      <td>319996.npz</td>\n",
       "      <td>C 1 2 1 (No. 5)</td>\n",
       "    </tr>\n",
       "    <tr>\n",
       "      <th>319997</th>\n",
       "      <td>319997.npz</td>\n",
       "      <td>C 1 2 1 (No. 5)</td>\n",
       "    </tr>\n",
       "    <tr>\n",
       "      <th>319998</th>\n",
       "      <td>319998.npz</td>\n",
       "      <td>C 1 2 1 (No. 5)</td>\n",
       "    </tr>\n",
       "    <tr>\n",
       "      <th>319999</th>\n",
       "      <td>319999.npz</td>\n",
       "      <td>P 1 21 1 (No. 4)</td>\n",
       "    </tr>\n",
       "  </tbody>\n",
       "</table>\n",
       "<p>320000 rows × 2 columns</p>\n",
       "</div>"
      ],
      "text/plain": [
       "          filename             group\n",
       "0            0.npz  P 1 21 1 (No. 4)\n",
       "1            1.npz  P 1 21 1 (No. 4)\n",
       "2            2.npz  P 1 21 1 (No. 4)\n",
       "3            3.npz  P 1 21 1 (No. 4)\n",
       "4            4.npz   C 1 2 1 (No. 5)\n",
       "...            ...               ...\n",
       "319995  319995.npz   C 1 2 1 (No. 5)\n",
       "319996  319996.npz   C 1 2 1 (No. 5)\n",
       "319997  319997.npz   C 1 2 1 (No. 5)\n",
       "319998  319998.npz   C 1 2 1 (No. 5)\n",
       "319999  319999.npz  P 1 21 1 (No. 4)\n",
       "\n",
       "[320000 rows x 2 columns]"
      ]
     },
     "execution_count": 27,
     "metadata": {},
     "output_type": "execute_result"
    }
   ],
   "source": [
    "df"
   ]
  },
  {
   "cell_type": "code",
   "execution_count": 28,
   "id": "cc8ba066-202b-4e45-83e4-84c5523cbdc5",
   "metadata": {
    "tags": []
   },
   "outputs": [],
   "source": [
    "for i in range(len(groups[:train_range])):\n",
    "    assert df['group'][i] == groups[i]"
   ]
  },
  {
   "cell_type": "code",
   "execution_count": 29,
   "id": "f10be690-c43e-4ad1-87af-e7ea76053e52",
   "metadata": {
    "tags": []
   },
   "outputs": [],
   "source": [
    "df.to_csv('clin_1.5_0.8_400k/train.csv', index = False)"
   ]
  },
  {
   "cell_type": "code",
   "execution_count": 31,
   "id": "4c3b25f1-ef48-4834-be05-f28fd2546632",
   "metadata": {},
   "outputs": [],
   "source": [
    "df = pd.DataFrame()"
   ]
  },
  {
   "cell_type": "code",
   "execution_count": 32,
   "id": "7f42bcba-2298-4436-8cd2-a2738a93abd9",
   "metadata": {},
   "outputs": [],
   "source": [
    "filenames = [f'{i}.npz' for i in range(train_range, len(ind_lows))]"
   ]
  },
  {
   "cell_type": "code",
   "execution_count": 33,
   "id": "2b7ede0c-e850-4872-a5d6-52f3e0daf80c",
   "metadata": {},
   "outputs": [],
   "source": [
    "df['filename'] = filenames"
   ]
  },
  {
   "cell_type": "code",
   "execution_count": 34,
   "id": "5701c3f6-8453-4845-b7e8-f8055b73b1c2",
   "metadata": {},
   "outputs": [],
   "source": [
    "df['group'] = groups[train_range:len(ind_lows)]"
   ]
  },
  {
   "cell_type": "code",
   "execution_count": 35,
   "id": "2f4403fa-8166-44e8-80b0-231f55729855",
   "metadata": {},
   "outputs": [
    {
     "data": {
      "text/html": [
       "<div>\n",
       "<style scoped>\n",
       "    .dataframe tbody tr th:only-of-type {\n",
       "        vertical-align: middle;\n",
       "    }\n",
       "\n",
       "    .dataframe tbody tr th {\n",
       "        vertical-align: top;\n",
       "    }\n",
       "\n",
       "    .dataframe thead th {\n",
       "        text-align: right;\n",
       "    }\n",
       "</style>\n",
       "<table border=\"1\" class=\"dataframe\">\n",
       "  <thead>\n",
       "    <tr style=\"text-align: right;\">\n",
       "      <th></th>\n",
       "      <th>filename</th>\n",
       "      <th>group</th>\n",
       "    </tr>\n",
       "  </thead>\n",
       "  <tbody>\n",
       "    <tr>\n",
       "      <th>0</th>\n",
       "      <td>320000.npz</td>\n",
       "      <td>C 1 2 1 (No. 5)</td>\n",
       "    </tr>\n",
       "    <tr>\n",
       "      <th>1</th>\n",
       "      <td>320001.npz</td>\n",
       "      <td>C 1 2 1 (No. 5)</td>\n",
       "    </tr>\n",
       "    <tr>\n",
       "      <th>2</th>\n",
       "      <td>320002.npz</td>\n",
       "      <td>C 1 2 1 (No. 5)</td>\n",
       "    </tr>\n",
       "    <tr>\n",
       "      <th>3</th>\n",
       "      <td>320003.npz</td>\n",
       "      <td>P 1 21 1 (No. 4)</td>\n",
       "    </tr>\n",
       "    <tr>\n",
       "      <th>4</th>\n",
       "      <td>320004.npz</td>\n",
       "      <td>C 1 2 1 (No. 5)</td>\n",
       "    </tr>\n",
       "    <tr>\n",
       "      <th>...</th>\n",
       "      <td>...</td>\n",
       "      <td>...</td>\n",
       "    </tr>\n",
       "    <tr>\n",
       "      <th>79995</th>\n",
       "      <td>399995.npz</td>\n",
       "      <td>C 1 2 1 (No. 5)</td>\n",
       "    </tr>\n",
       "    <tr>\n",
       "      <th>79996</th>\n",
       "      <td>399996.npz</td>\n",
       "      <td>P 1 21 1 (No. 4)</td>\n",
       "    </tr>\n",
       "    <tr>\n",
       "      <th>79997</th>\n",
       "      <td>399997.npz</td>\n",
       "      <td>P 1 21 1 (No. 4)</td>\n",
       "    </tr>\n",
       "    <tr>\n",
       "      <th>79998</th>\n",
       "      <td>399998.npz</td>\n",
       "      <td>C 1 2 1 (No. 5)</td>\n",
       "    </tr>\n",
       "    <tr>\n",
       "      <th>79999</th>\n",
       "      <td>399999.npz</td>\n",
       "      <td>P 1 21 1 (No. 4)</td>\n",
       "    </tr>\n",
       "  </tbody>\n",
       "</table>\n",
       "<p>80000 rows × 2 columns</p>\n",
       "</div>"
      ],
      "text/plain": [
       "         filename             group\n",
       "0      320000.npz   C 1 2 1 (No. 5)\n",
       "1      320001.npz   C 1 2 1 (No. 5)\n",
       "2      320002.npz   C 1 2 1 (No. 5)\n",
       "3      320003.npz  P 1 21 1 (No. 4)\n",
       "4      320004.npz   C 1 2 1 (No. 5)\n",
       "...           ...               ...\n",
       "79995  399995.npz   C 1 2 1 (No. 5)\n",
       "79996  399996.npz  P 1 21 1 (No. 4)\n",
       "79997  399997.npz  P 1 21 1 (No. 4)\n",
       "79998  399998.npz   C 1 2 1 (No. 5)\n",
       "79999  399999.npz  P 1 21 1 (No. 4)\n",
       "\n",
       "[80000 rows x 2 columns]"
      ]
     },
     "execution_count": 35,
     "metadata": {},
     "output_type": "execute_result"
    }
   ],
   "source": [
    "df"
   ]
  },
  {
   "cell_type": "code",
   "execution_count": 36,
   "id": "c71605a9-046c-445c-9eb6-233a93ee872e",
   "metadata": {},
   "outputs": [],
   "source": [
    "df.to_csv('clin_1.5_0.8_400k/val.csv', index = False)"
   ]
  },
  {
   "cell_type": "code",
   "execution_count": null,
   "id": "a8d6fd81-4f4b-45c6-8a61-9b027d789b5a",
   "metadata": {},
   "outputs": [],
   "source": []
  }
 ],
 "metadata": {
  "kernelspec": {
   "display_name": "Python 3 (ipykernel)",
   "language": "python",
   "name": "python3"
  },
  "language_info": {
   "codemirror_mode": {
    "name": "ipython",
    "version": 3
   },
   "file_extension": ".py",
   "mimetype": "text/x-python",
   "name": "python",
   "nbconvert_exporter": "python",
   "pygments_lexer": "ipython3",
   "version": "3.12.2"
  }
 },
 "nbformat": 4,
 "nbformat_minor": 5
}
